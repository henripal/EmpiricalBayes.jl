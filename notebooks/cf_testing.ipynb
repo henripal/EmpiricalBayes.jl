{
 "cells": [
  {
   "cell_type": "code",
   "execution_count": 44,
   "metadata": {
    "collapsed": false
   },
   "outputs": [
    {
     "name": "stderr",
     "output_type": "stream",
     "text": [
      "\u001b[1m\u001b[34mINFO: Precompiling module LowRankModels.\n",
      "\u001b[0mWARNING: Method definition (::Type{ArrayViews.UnsafeContiguousView})(Ptr{#T<:Any}, Int64, Tuple{Vararg{Int64, #N<:Any}}) in module ArrayViews at /home/henripal/.julia/v0.5/ArrayViews/src/arrviews.jl:18 overwritten at /home/henripal/.julia/v0.5/ArrayViews/src/arrviews.jl:26.\n",
      "WARNING: using LowRankModels.fit in module Main conflicts with an existing identifier.\n"
     ]
    }
   ],
   "source": [
    "using DataFrames\n",
    "using LowRankModels"
   ]
  },
  {
   "cell_type": "code",
   "execution_count": 16,
   "metadata": {
    "collapsed": false
   },
   "outputs": [
    {
     "data": {
      "text/plain": [
       "4-element Array{Symbol,1}:\n",
       " :id         \n",
       " :score      \n",
       " :publication\n",
       " :critic     "
      ]
     },
     "execution_count": 16,
     "metadata": {},
     "output_type": "execute_result"
    }
   ],
   "source": [
    "basic_cols = [:id, :title, :metascore, :user_score, :release_date, :running_time, :rating, :company, :positive, :mixed, :negative]\n",
    "review_cols = [:id, :score, :publication, :critic]"
   ]
  },
  {
   "cell_type": "code",
   "execution_count": 17,
   "metadata": {
    "collapsed": false
   },
   "outputs": [],
   "source": [
    "basics = readtable(\"../data/basics1001.csv\", names = basic_cols);\n",
    "reviews = readtable(\"../data/reviews1001.csv\", names=review_cols);"
   ]
  },
  {
   "cell_type": "code",
   "execution_count": 38,
   "metadata": {
    "collapsed": false
   },
   "outputs": [],
   "source": [
    "film_ids = convert(Array, unique(reviews[:id]))\n",
    "critic_ids = convert(Array, unique(reviews[:critic]));"
   ]
  },
  {
   "cell_type": "code",
   "execution_count": 39,
   "metadata": {
    "collapsed": false
   },
   "outputs": [],
   "source": [
    "film_dict = Dict(collect(zip(film_ids, 1:length(film_ids))))\n",
    "critic_dict = Dict(collect(zip(critic_ids, 1:length(critic_ids))));"
   ]
  },
  {
   "cell_type": "code",
   "execution_count": 41,
   "metadata": {
    "collapsed": false
   },
   "outputs": [],
   "source": [
    "film_is = [film_dict[film] for film in reviews[:id]]\n",
    "critic_is = [critic_dict[critic] for critic in reviews[:critic]];"
   ]
  },
  {
   "cell_type": "code",
   "execution_count": 57,
   "metadata": {
    "collapsed": false
   },
   "outputs": [
    {
     "data": {
      "text/plain": [
       "1718×2356 sparse matrix with 48226 Int64 nonzero entries:\n",
       "\t[1   ,    1]  =  65\n",
       "\t[2   ,    1]  =  60\n",
       "\t[3   ,    1]  =  50\n",
       "\t[4   ,    1]  =  40\n",
       "\t[5   ,    1]  =  30\n",
       "\t[6   ,    1]  =  12\n",
       "\t[7   ,    2]  =  91\n",
       "\t[8   ,    2]  =  91\n",
       "\t[9   ,    2]  =  88\n",
       "\t[10  ,    2]  =  75\n",
       "\t⋮\n",
       "\t[154 , 2356]  =  60\n",
       "\t[180 , 2356]  =  90\n",
       "\t[235 , 2356]  =  83\n",
       "\t[308 , 2356]  =  80\n",
       "\t[324 , 2356]  =  91\n",
       "\t[410 , 2356]  =  63\n",
       "\t[437 , 2356]  =  83\n",
       "\t[481 , 2356]  =  80\n",
       "\t[529 , 2356]  =  88\n",
       "\t[598 , 2356]  =  75\n",
       "\t[638 , 2356]  =  80"
      ]
     },
     "execution_count": 57,
     "metadata": {},
     "output_type": "execute_result"
    }
   ],
   "source": [
    "critic_x_film = sparse(critic_is, film_is, reviews[:score])"
   ]
  },
  {
   "cell_type": "code",
   "execution_count": 76,
   "metadata": {
    "collapsed": false
   },
   "outputs": [],
   "source": [
    "model = LowRankModels.rpca(critic_x_film, 1000);"
   ]
  },
  {
   "cell_type": "code",
   "execution_count": 77,
   "metadata": {
    "collapsed": false
   },
   "outputs": [
    {
     "name": "stdout",
     "output_type": "stream",
     "text": [
      "LowRankModels.SparseProxGradParams(1.0,100,1,1.0e-5,0.01)\n",
      "Fitting GLRM\n",
      "obj went up to 1.9743758787236742e6; reducing step size to 1.0342188106523442\n",
      "Iteration 10: objective value = 1.8007223754132967e6\n",
      "obj went up to 1.4456050080707148e6; reducing step size to 0.7981583671209468\n",
      "obj went up to 1.5232283176801146e6; reducing step size to 0.5587108569846627\n",
      "obj went up to 1.1911250430513597e6; reducing step size to 0.3910975998892639\n",
      "obj went up to 919102.3727560815; reducing step size to 0.27376831992248474\n",
      "Iteration 20: objective value = 883495.5508137017\n",
      "obj went up to 821865.4055870515; reducing step size to 0.19163782394573933\n",
      "obj went up to 727447.6661405759; reducing step size to 0.13414647676201755\n",
      "obj went up to 664090.3697026959; reducing step size to 0.09390253373341229\n",
      "obj went up to 625035.6233364472; reducing step size to 0.0657317736133886\n",
      "obj went up to 594499.9322256886; reducing step size to 0.04601224152937202\n",
      "Iteration 30: objective value = 583738.5846783619\n",
      "obj went up to 566870.7129278335; reducing step size to 0.03220856907056042\n",
      "obj went up to 544927.9208980614; reducing step size to 0.02485696318020501\n",
      "Iteration 40: objective value = 534467.3848494688\n",
      "obj went up to 533681.3372483077; reducing step size to 0.02220713866464592\n",
      "Iteration 50: objective value = 527985.4056241679\n",
      "obj went up to 527233.7149968871; reducing step size to 0.021873371940706463\n",
      "obj went up to 522523.282691551; reducing step size to 0.019541606922339957\n",
      "Iteration 60: objective value = 521478.62417827395\n",
      "obj went up to 516687.7912405282; reducing step size to 0.02122081234293095\n",
      "Iteration 70: objective value = 516661.94184386736\n",
      "obj went up to 512897.0877640925; reducing step size to 0.01895861207418864\n",
      "Iteration 80: objective value = 510979.07477088657\n",
      "obj went up to 507730.7963753708; reducing step size to 0.020587720892535875\n",
      "Iteration 90: objective value = 505962.70785198675\n",
      "obj went up to 504328.1768431491; reducing step size to 0.018393010012327713\n",
      "Iteration 100: objective value = 501804.3170986927\n"
     ]
    },
    {
     "data": {
      "text/plain": [
       "(\n",
       "[-0.662434 0.466237 … -0.151947 -0.24568; 0.186882 -0.464404 … 0.279972 -0.109405; … ; 0.300383 0.0174432 … -0.140701 0.152084; -0.893847 0.140644 … -0.0742042 -0.19414],\n",
       "\n",
       "[-0.0834411 -0.152263 … -0.709245 -1.11738; -0.137557 -0.27284 … -0.297751 0.0968416; … ; 0.0582126 0.498501 … 0.208046 0.772562; -0.0557331 -0.171654 … 0.112496 -0.358798],\n",
       "\n",
       "LowRankModels.ConvergenceHistory(\"SparseProxGradGLRM\",[7.1187e6,4.66405e6,3.63579e6,2.83837e6,2.72988e6,2.27718e6,2.13808e6,1.86718e6,1.83835e6,1.80072e6  …  5.05754e5,5.05117e5,5.05019e5,5.04294e5,5.03506e5,5.028e5,5.02549e5,5.01997e5,5.01804e5,5.01804e5],Float64[],[0.0,0.0,0.0,0.0,0.0,0.0,0.0,0.0,0.0,0.0  …  0.0,0.0,0.0,0.0,0.0,0.0,0.0,0.0,0.0,0.0],[0.0,0.0,0.0,0.0,0.0,0.0,0.0,0.0,0.0,0.0  …  0.0,0.0,0.0,0.0,0.0,0.0,0.0,0.0,0.0,0.0],[0.0,0.404557,0.696101,1.09024,1.37858,1.77861,2.06752,2.46057,2.74733,3.1392  …  31.6609,31.9576,32.4168,32.7068,33.4002,33.7975,34.0922,34.4984,34.7847,34.7853],[0.0,0.0,0.0,0.0,0.0,0.0,0.0,0.0,0.0,0.0  …  0.0,0.0,0.0,0.0,0.0,0.0,0.0,0.0,0.0,0.0],0))"
      ]
     },
     "execution_count": 77,
     "metadata": {},
     "output_type": "execute_result"
    }
   ],
   "source": [
    "X, Y, _ = fit!(model)"
   ]
  },
  {
   "cell_type": "code",
   "execution_count": 78,
   "metadata": {
    "collapsed": false
   },
   "outputs": [
    {
     "data": {
      "text/plain": [
       "(1000,1718)"
      ]
     },
     "execution_count": 78,
     "metadata": {},
     "output_type": "execute_result"
    }
   ],
   "source": [
    "size(X)"
   ]
  },
  {
   "cell_type": "code",
   "execution_count": 79,
   "metadata": {
    "collapsed": false
   },
   "outputs": [
    {
     "data": {
      "text/plain": [
       "(1000,2356)"
      ]
     },
     "execution_count": 79,
     "metadata": {},
     "output_type": "execute_result"
    }
   ],
   "source": [
    "size(Y)"
   ]
  },
  {
   "cell_type": "code",
   "execution_count": 80,
   "metadata": {
    "collapsed": false
   },
   "outputs": [
    {
     "data": {
      "text/plain": [
       "(1718,2356)"
      ]
     },
     "execution_count": 80,
     "metadata": {},
     "output_type": "execute_result"
    }
   ],
   "source": [
    "size(critic_x_film)"
   ]
  },
  {
   "cell_type": "code",
   "execution_count": 81,
   "metadata": {
    "collapsed": false
   },
   "outputs": [
    {
     "data": {
      "text/plain": [
       "1718×2356 Array{Float64,2}:\n",
       " 64.5354      18.378        7.49311     …  19.7832     34.3098    \n",
       " 59.6642      25.3508       6.42827        23.5817     21.3894    \n",
       " 49.7046      20.8045       4.04184        12.7527     25.825     \n",
       " 39.8855      35.9826       5.60792        22.2665     30.6237    \n",
       " 29.8752      23.3823      10.7987         13.3649     32.3282    \n",
       " 12.0869      23.2916       5.79991     …  20.6986     40.786     \n",
       "  9.23584     90.8491      20.4101         74.943      36.3512    \n",
       " 23.327       90.8482      14.7056         79.882      74.9924    \n",
       " 20.2195      87.8604      17.9814         74.9385     44.9091    \n",
       " 12.0842      74.8687       7.95804        17.7582     19.7877    \n",
       " 15.7871      74.8408       8.43691     …  14.8218     74.9167    \n",
       " 13.9828      74.6076      10.0156         24.8069     26.4749    \n",
       " 13.5779      74.8118       2.73005        32.1923     38.867     \n",
       "  ⋮                                     ⋱               ⋮         \n",
       "  4.66266     11.9268       3.29149        18.2108     14.0275    \n",
       "  1.11113      3.99698      5.99209        12.8977      1.36805   \n",
       "  0.553145     1.93121      2.8821          6.15207     0.73244   \n",
       "  3.1347       5.58413      1.71583         6.85781    12.7571    \n",
       "  5.73985     11.4512       3.67032     …  15.1135     21.2194    \n",
       "  3.41015      7.85627      2.02976         7.10454    10.7752    \n",
       "  1.65509      1.85225      1.00015         4.15548     8.23258   \n",
       "  1.65645      4.39012      5.37695        14.0854      6.96229   \n",
       "  2.28478      5.49292      3.82963        10.1189      9.18575   \n",
       "  3.30768e-9   1.96333e-9  -3.21766e-9  …  -1.5403e-8  -1.04015e-8\n",
       "  2.74239      8.90609      4.15025        16.497      11.3972    \n",
       "  3.61065      7.41498      3.6158         10.0583      7.17556   "
      ]
     },
     "execution_count": 81,
     "metadata": {},
     "output_type": "execute_result"
    }
   ],
   "source": [
    "X' * Y"
   ]
  },
  {
   "cell_type": "code",
   "execution_count": 111,
   "metadata": {
    "collapsed": false
   },
   "outputs": [],
   "source": [
    "means = Array{Int64}(size(critic_x_film, 2)) \n",
    "for i in 1:size(critic_x_film, 2)\n",
    "   means[i] = floor(Int64, mean(nonzeros(critic_x_film[:, i])))\n",
    "end"
   ]
  },
  {
   "cell_type": "code",
   "execution_count": 115,
   "metadata": {
    "collapsed": false
   },
   "outputs": [
    {
     "data": {
      "text/plain": [
       "2356-element Array{Int64,1}:\n",
       " 42\n",
       " 71\n",
       " 43\n",
       " 82\n",
       " 57\n",
       " 80\n",
       " 58\n",
       " 61\n",
       " 68\n",
       " 60\n",
       " 41\n",
       " 75\n",
       " 58\n",
       "  ⋮\n",
       " 50\n",
       " 72\n",
       " 73\n",
       " 47\n",
       " 52\n",
       " 44\n",
       " 81\n",
       " 81\n",
       " 57\n",
       " 69\n",
       " 65\n",
       " 81"
      ]
     },
     "execution_count": 115,
     "metadata": {},
     "output_type": "execute_result"
    }
   ],
   "source": [
    "full_matrix = Array{Int64}(size(critic_x_film)...)"
   ]
  },
  {
   "cell_type": "code",
   "execution_count": 120,
   "metadata": {
    "collapsed": false
   },
   "outputs": [],
   "source": [
    "for i in 1:size(critic_x_film, 1), j in 1:size(critic_x_film, 2)\n",
    "    if critic_x_film[i, j] == 0\n",
    "        full_matrix[i, j] = means[j]\n",
    "    else\n",
    "        full_matrix[i, j] = critic_x_film[i, j]\n",
    "    end\n",
    "end"
   ]
  },
  {
   "cell_type": "code",
   "execution_count": 127,
   "metadata": {
    "collapsed": false
   },
   "outputs": [
    {
     "data": {
      "text/plain": [
       "1×2356 Array{Float64,2}:\n",
       " 1.14443  1.75655  1.25044  1.39515  …  1.48398  2.54446  4.63996  3.72219"
      ]
     },
     "execution_count": 127,
     "metadata": {},
     "output_type": "execute_result"
    }
   ],
   "source": [
    "vars = var(full_matrix, 1)"
   ]
  },
  {
   "cell_type": "code",
   "execution_count": 133,
   "metadata": {
    "collapsed": false
   },
   "outputs": [
    {
     "data": {
      "text/plain": [
       "2356-element Array{Int64,1}:\n",
       " 1188\n",
       " 1106\n",
       " 1025\n",
       " 1829\n",
       " 1065\n",
       " 1220\n",
       "   49\n",
       " 1553\n",
       " 1782\n",
       "  238\n",
       " 1245\n",
       " 1725\n",
       "  909\n",
       "    ⋮\n",
       "  451\n",
       "  230\n",
       " 2117\n",
       "  482\n",
       "  440\n",
       " 1197\n",
       "   73\n",
       "  467\n",
       "  568\n",
       " 1959\n",
       "  259\n",
       "  720"
      ]
     },
     "execution_count": 133,
     "metadata": {},
     "output_type": "execute_result"
    }
   ],
   "source": [
    "perm = sortperm(vec(vars), rev=true)"
   ]
  },
  {
   "cell_type": "code",
   "execution_count": 138,
   "metadata": {
    "collapsed": false
   },
   "outputs": [
    {
     "data": {
      "text/plain": [
       "20-element Array{String,1}:\n",
       " \"cabaret\"                      \n",
       " \"broadcast-news\"               \n",
       " \"born-on-the-fourth-of-july\"   \n",
       " \"dogville\"                     \n",
       " \"brazil\"                       \n",
       " \"cape-fear\"                    \n",
       " \"2001-a-space-odyssey\"         \n",
       " \"crimes-and-misdemeanors\"      \n",
       " \"diner\"                        \n",
       " \"a-river-runs-through-it\"      \n",
       " \"cars\"                         \n",
       " \"delicatessen\"                 \n",
       " \"bill-teds-excellent-adventure\"\n",
       " \"21-grams\"                     \n",
       " \"crush\"                        \n",
       " \"elephant\"                     \n",
       " \"cloud-atlas\"                  \n",
       " \"bad-lieutenant\"               \n",
       " \"eyes-wide-shut\"               \n",
       " \"days-of-heaven-re-release\"    "
      ]
     },
     "execution_count": 138,
     "metadata": {},
     "output_type": "execute_result"
    }
   ],
   "source": [
    "film_ids[perm[1:20]]"
   ]
  },
  {
   "cell_type": "code",
   "execution_count": 161,
   "metadata": {
    "collapsed": false
   },
   "outputs": [
    {
     "data": {
      "text/html": [
       "<table class=\"data-frame\"><thead><tr><th></th><th>id</th><th>score</th><th>publication</th><th>critic</th></tr></thead><tbody><tr><th>1</th><td>a-river-runs-through-it</td><td>100</td><td>San Francisco Chronicle</td><td>Peter Stack</td></tr><tr><th>2</th><td>a-river-runs-through-it</td><td>100</td><td>Seattle Post-Intelligencer</td><td>William Arnold</td></tr><tr><th>3</th><td>a-river-runs-through-it</td><td>90</td><td>Variety</td><td>Staff (Not Credited)</td></tr><tr><th>4</th><td>a-river-runs-through-it</td><td>90</td><td>The New York Times</td><td>Caryn James</td></tr><tr><th>5</th><td>a-river-runs-through-it</td><td>88</td><td>Chicago Sun-Times</td><td>Roger Ebert</td></tr><tr><th>6</th><td>a-river-runs-through-it</td><td>88</td><td>ReelViews</td><td>James Berardinelli</td></tr><tr><th>7</th><td>a-river-runs-through-it</td><td>78</td><td>Austin Chronicle</td><td>Hollis Chacona</td></tr><tr><th>8</th><td>a-river-runs-through-it</td><td>75</td><td>Boston Globe</td><td>Jay Carr</td></tr><tr><th>9</th><td>a-river-runs-through-it</td><td>75</td><td>Portland Oregonian</td><td>Ted Mahar</td></tr><tr><th>10</th><td>a-river-runs-through-it</td><td>75</td><td>The Globe and Mail (Toronto)</td><td>Rick Groen</td></tr><tr><th>11</th><td>a-river-runs-through-it</td><td>70</td><td>Washington Post</td><td>Hal Hinson</td></tr><tr><th>12</th><td>a-river-runs-through-it</td><td>70</td><td>Washington Post</td><td>Desson Howe</td></tr><tr><th>13</th><td>a-river-runs-through-it</td><td>70</td><td>Wall Street Journal</td><td>Julie Salamon</td></tr><tr><th>14</th><td>a-river-runs-through-it</td><td>63</td><td>TV Guide Magazine</td><td>Staff (Not Credited)</td></tr><tr><th>15</th><td>a-river-runs-through-it</td><td>63</td><td>USA Today</td><td>Mike Clark</td></tr><tr><th>16</th><td>a-river-runs-through-it</td><td>60</td><td>Chicago Reader</td><td>Lisa Alspector</td></tr><tr><th>17</th><td>a-river-runs-through-it</td><td>60</td><td>Empire</td><td>Staff (Not Credited)</td></tr><tr><th>18</th><td>a-river-runs-through-it</td><td>60</td><td>Los Angeles Times</td><td>Kenneth Turan</td></tr><tr><th>19</th><td>a-river-runs-through-it</td><td>50</td><td>Christian Science Monitor</td><td>David Sterritt</td></tr><tr><th>20</th><td>a-river-runs-through-it</td><td>50</td><td>Rolling Stone</td><td>Peter Travers</td></tr><tr><th>21</th><td>a-river-runs-through-it</td><td>50</td><td>Chicago Tribune</td><td>Dave Kehr</td></tr></tbody></table>"
      ],
      "text/plain": [
       "21×4 DataFrames.DataFrame\n",
       "│ Row │ id                        │ score │ publication                    │\n",
       "├─────┼───────────────────────────┼───────┼────────────────────────────────┤\n",
       "│ 1   │ \"a-river-runs-through-it\" │ 100   │ \"San Francisco Chronicle\"      │\n",
       "│ 2   │ \"a-river-runs-through-it\" │ 100   │ \"Seattle Post-Intelligencer\"   │\n",
       "│ 3   │ \"a-river-runs-through-it\" │ 90    │ \"Variety\"                      │\n",
       "│ 4   │ \"a-river-runs-through-it\" │ 90    │ \"The New York Times\"           │\n",
       "│ 5   │ \"a-river-runs-through-it\" │ 88    │ \"Chicago Sun-Times\"            │\n",
       "│ 6   │ \"a-river-runs-through-it\" │ 88    │ \"ReelViews\"                    │\n",
       "│ 7   │ \"a-river-runs-through-it\" │ 78    │ \"Austin Chronicle\"             │\n",
       "│ 8   │ \"a-river-runs-through-it\" │ 75    │ \"Boston Globe\"                 │\n",
       "│ 9   │ \"a-river-runs-through-it\" │ 75    │ \"Portland Oregonian\"           │\n",
       "│ 10  │ \"a-river-runs-through-it\" │ 75    │ \"The Globe and Mail (Toronto)\" │\n",
       "│ 11  │ \"a-river-runs-through-it\" │ 70    │ \"Washington Post\"              │\n",
       "│ 12  │ \"a-river-runs-through-it\" │ 70    │ \"Washington Post\"              │\n",
       "│ 13  │ \"a-river-runs-through-it\" │ 70    │ \"Wall Street Journal\"          │\n",
       "│ 14  │ \"a-river-runs-through-it\" │ 63    │ \"TV Guide Magazine\"            │\n",
       "│ 15  │ \"a-river-runs-through-it\" │ 63    │ \"USA Today\"                    │\n",
       "│ 16  │ \"a-river-runs-through-it\" │ 60    │ \"Chicago Reader\"               │\n",
       "│ 17  │ \"a-river-runs-through-it\" │ 60    │ \"Empire\"                       │\n",
       "│ 18  │ \"a-river-runs-through-it\" │ 60    │ \"Los Angeles Times\"            │\n",
       "│ 19  │ \"a-river-runs-through-it\" │ 50    │ \"Christian Science Monitor\"    │\n",
       "│ 20  │ \"a-river-runs-through-it\" │ 50    │ \"Rolling Stone\"                │\n",
       "│ 21  │ \"a-river-runs-through-it\" │ 50    │ \"Chicago Tribune\"              │\n",
       "\n",
       "│ Row │ critic                 │\n",
       "├─────┼────────────────────────┤\n",
       "│ 1   │ \"Peter Stack\"          │\n",
       "│ 2   │ \"William Arnold\"       │\n",
       "│ 3   │ \"Staff (Not Credited)\" │\n",
       "│ 4   │ \"Caryn James\"          │\n",
       "│ 5   │ \"Roger Ebert\"          │\n",
       "│ 6   │ \"James Berardinelli\"   │\n",
       "│ 7   │ \"Hollis Chacona\"       │\n",
       "│ 8   │ \"Jay Carr\"             │\n",
       "│ 9   │ \"Ted Mahar\"            │\n",
       "│ 10  │ \"Rick Groen\"           │\n",
       "│ 11  │ \"Hal Hinson\"           │\n",
       "│ 12  │ \"Desson Howe\"          │\n",
       "│ 13  │ \"Julie Salamon\"        │\n",
       "│ 14  │ \"Staff (Not Credited)\" │\n",
       "│ 15  │ \"Mike Clark\"           │\n",
       "│ 16  │ \"Lisa Alspector\"       │\n",
       "│ 17  │ \"Staff (Not Credited)\" │\n",
       "│ 18  │ \"Kenneth Turan\"        │\n",
       "│ 19  │ \"David Sterritt\"       │\n",
       "│ 20  │ \"Peter Travers\"        │\n",
       "│ 21  │ \"Dave Kehr\"            │"
      ]
     },
     "execution_count": 161,
     "metadata": {},
     "output_type": "execute_result"
    }
   ],
   "source": [
    "\n",
    "subset = reviews[reviews[:id] .== \"a-river-runs-through-it\", :]"
   ]
  },
  {
   "cell_type": "code",
   "execution_count": 190,
   "metadata": {
    "collapsed": false
   },
   "outputs": [
    {
     "name": "stderr",
     "output_type": "stream",
     "text": [
      "WARNING: Method definition build_most_variant(Any) in module Main at In[187]:2 overwritten at In[190]:2.\n"
     ]
    },
    {
     "data": {
      "text/plain": [
       "build_most_variant (generic function with 1 method)"
      ]
     },
     "execution_count": 190,
     "metadata": {},
     "output_type": "execute_result"
    }
   ],
   "source": [
    "function build_most_variant(dataframe)\n",
    "    movies = unique(dataframe[:id])\n",
    "    variances = zeros(length(movies))\n",
    "    for (i, movie) in enumerate(movies)\n",
    "        subset = dataframe[dataframe[:id] .== movie, :]\n",
    "        variances[i] = var(subset[:score])\n",
    "    end\n",
    "        \n",
    "    perm = sortperm(variances, rev=true)\n",
    "    movies[perm][1:20]\n",
    "end"
   ]
  },
  {
   "cell_type": "code",
   "execution_count": 240,
   "metadata": {
    "collapsed": false
   },
   "outputs": [
    {
     "name": "stderr",
     "output_type": "stream",
     "text": [
      "WARNING: Method definition exclude_critics(Any, Any, Any) in module Main at In[234]:2 overwritten at In[240]:2.\n"
     ]
    },
    {
     "data": {
      "text/plain": [
       "exclude_critics (generic function with 1 method)"
      ]
     },
     "execution_count": 240,
     "metadata": {},
     "output_type": "execute_result"
    }
   ],
   "source": [
    "function exclude_critics(dataframe, movie, rating)\n",
    "    LO, MED, HI = 60, 75, 88\n",
    "   subset = dataframe[dataframe[:id].== movie, :]\n",
    "    if rating == 0\n",
    "        excluded = subset[subset[:score].>= LO, :][:critic]\n",
    "    elseif rating == 1\n",
    "        excluded = subset[(subset[:score].<= LO) | (subset[:score].>= HI), :][:critic]\n",
    "    else\n",
    "        excluded = subset[subset[:score].<= HI, :][:critic]\n",
    "    end\n",
    "    \n",
    "    excluded\n",
    "end"
   ]
  },
  {
   "cell_type": "code",
   "execution_count": 215,
   "metadata": {
    "collapsed": false
   },
   "outputs": [
    {
     "name": "stderr",
     "output_type": "stream",
     "text": [
      "WARNING: Method definition subset_df(Any, Any) in module Main at In[213]:2 overwritten at In[215]:2.\n"
     ]
    },
    {
     "data": {
      "text/plain": [
       "subset_df (generic function with 1 method)"
      ]
     },
     "execution_count": 215,
     "metadata": {},
     "output_type": "execute_result"
    }
   ],
   "source": [
    "function subset_df(df, excluded_critics)\n",
    "    return df[[~(x in excluded_critics) for x in df[:critic]], :]\n",
    "end"
   ]
  },
  {
   "cell_type": "code",
   "execution_count": 191,
   "metadata": {
    "collapsed": false
   },
   "outputs": [
    {
     "data": {
      "text/plain": [
       "20-element DataArrays.DataArray{String,1}:\n",
       " \"film-geek\"                            \n",
       " \"butch-cassidy-and-the-sundance-kid\"   \n",
       " \"dogville\"                             \n",
       " \"a-moment-of-innocence\"                \n",
       " \"coming-to-america\"                    \n",
       " \"crash-1997\"                           \n",
       " \"fracknation\"                          \n",
       " \"beer-league\"                          \n",
       " \"2001-a-space-odyssey\"                 \n",
       " \"broken-sky\"                           \n",
       " \"ace-ventura-pet-detective\"            \n",
       " \"ferris-buellers-day-off\"              \n",
       " \"bound\"                                \n",
       " \"fear-and-loathing-in-las-vegas\"       \n",
       " \"american-cannibal-the-road-to-reality\"\n",
       " \"air-force-one\"                        \n",
       " \"8mm\"                                  \n",
       " \"a-clockwork-orange\"                   \n",
       " \"bandits-1999\"                         \n",
       " \"fleeing-by-night\"                     "
      ]
     },
     "execution_count": 191,
     "metadata": {},
     "output_type": "execute_result"
    }
   ],
   "source": [
    "build_most_variant(reviews)"
   ]
  },
  {
   "cell_type": "code",
   "execution_count": 221,
   "metadata": {
    "collapsed": false
   },
   "outputs": [
    {
     "data": {
      "text/plain": [
       "4-element DataArrays.DataArray{String,1}:\n",
       " \"Staff (Not Credited)\"\n",
       " \"Michael Atkinson\"    \n",
       " \"Roger Ebert\"         \n",
       " \"Dave Kehr\"           "
      ]
     },
     "execution_count": 221,
     "metadata": {},
     "output_type": "execute_result"
    }
   ],
   "source": [
    "excluded = exclude_critics(reviews, \"a-clockwork-orange\", 2)"
   ]
  },
  {
   "cell_type": "code",
   "execution_count": 222,
   "metadata": {
    "collapsed": false
   },
   "outputs": [],
   "source": [
    "review_2 = subset_df(reviews, excluded);"
   ]
  },
  {
   "cell_type": "code",
   "execution_count": 223,
   "metadata": {
    "collapsed": false
   },
   "outputs": [
    {
     "data": {
      "text/plain": [
       "20-element DataArrays.DataArray{String,1}:\n",
       " \"film-geek\"                            \n",
       " \"a-moment-of-innocence\"                \n",
       " \"dogville\"                             \n",
       " \"coming-to-america\"                    \n",
       " \"ferris-buellers-day-off\"              \n",
       " \"2001-a-space-odyssey\"                 \n",
       " \"crash-1997\"                           \n",
       " \"crimes-and-misdemeanors\"              \n",
       " \"fracknation\"                          \n",
       " \"beer-league\"                          \n",
       " \"dog-run\"                              \n",
       " \"ace-ventura-pet-detective\"            \n",
       " \"broken-sky\"                           \n",
       " \"air-force-one\"                        \n",
       " \"fear-and-loathing-in-las-vegas\"       \n",
       " \"american-cannibal-the-road-to-reality\"\n",
       " \"bound\"                                \n",
       " \"conan-the-barbarian\"                  \n",
       " \"fleeing-by-night\"                     \n",
       " \"broken-arrow\"                         "
      ]
     },
     "execution_count": 223,
     "metadata": {},
     "output_type": "execute_result"
    }
   ],
   "source": [
    "build_most_variant(review_2)"
   ]
  },
  {
   "cell_type": "code",
   "execution_count": 242,
   "metadata": {
    "collapsed": false
   },
   "outputs": [
    {
     "data": {
      "text/plain": [
       "10-element DataArrays.DataArray{String,1}:\n",
       " \"Mick LaSalle\"       \n",
       " \"Jimmy Fowler\"       \n",
       " \"James Berardinelli\" \n",
       " \"Staff(not credited)\"\n",
       " \"Mike Clark\"         \n",
       " \"Bruce Walker\"       \n",
       " \"Elvis Mitchell\"     \n",
       " \"David Sterritt\"     \n",
       " \"Staff(not credited)\"\n",
       " \"Todd McCarthy\"      "
      ]
     },
     "execution_count": 242,
     "metadata": {},
     "output_type": "execute_result"
    }
   ],
   "source": [
    "excluded = exclude_critics(review_2, \"bound\", 1)"
   ]
  },
  {
   "cell_type": "code",
   "execution_count": 244,
   "metadata": {
    "collapsed": false
   },
   "outputs": [],
   "source": [
    "review_3 = subset_df(review_2, excluded);"
   ]
  },
  {
   "cell_type": "code",
   "execution_count": 245,
   "metadata": {
    "collapsed": false
   },
   "outputs": [
    {
     "data": {
      "text/plain": [
       "20-element DataArrays.DataArray{String,1}:\n",
       " \"3-women\"                       \n",
       " \"black-rain\"                    \n",
       " \"film-geek\"                     \n",
       " \"crash-1997\"                    \n",
       " \"dogville\"                      \n",
       " \"2001-a-space-odyssey\"          \n",
       " \"coming-to-america\"             \n",
       " \"air-force-one\"                 \n",
       " \"ace-ventura-pet-detective\"     \n",
       " \"ferris-buellers-day-off\"       \n",
       " \"crimes-and-misdemeanors\"       \n",
       " \"fear-and-loathing-in-las-vegas\"\n",
       " \"fracknation\"                   \n",
       " \"beer-league\"                   \n",
       " \"dog-run\"                       \n",
       " \"broken-arrow\"                  \n",
       " \"broken-sky\"                    \n",
       " \"fleeing-by-night\"              \n",
       " \"deconstructing-harry\"          \n",
       " \"dumb-and-dumber\"               "
      ]
     },
     "execution_count": 245,
     "metadata": {},
     "output_type": "execute_result"
    }
   ],
   "source": [
    "build_most_variant(review_3)"
   ]
  },
  {
   "cell_type": "code",
   "execution_count": 246,
   "metadata": {
    "collapsed": false
   },
   "outputs": [
    {
     "data": {
      "text/plain": [
       "12-element DataArrays.DataArray{String,1}:\n",
       " \"Ron Wells\"          \n",
       " \"David Ansen\"        \n",
       " \"David Stratton\"     \n",
       " \"Rita Kempley\"       \n",
       " \"Marjorie Baumgarten\"\n",
       " \"David Edelstein\"    \n",
       " \"Andrew O'Hehir\"     \n",
       " \"Angie Errigo\"       \n",
       " \"Maitland McDonagh\"  \n",
       " \"Manohla Dargis\"     \n",
       " \"Nathan Rabin\"       \n",
       " \"Jonathan Rosenbaum\" "
      ]
     },
     "execution_count": 246,
     "metadata": {},
     "output_type": "execute_result"
    }
   ],
   "source": [
    "excluded = exclude_critics(review_3, \"deconstructing-harry\", 2)"
   ]
  },
  {
   "cell_type": "code",
   "execution_count": 247,
   "metadata": {
    "collapsed": false
   },
   "outputs": [],
   "source": [
    "review_4 = subset_df(review_3, excluded);"
   ]
  },
  {
   "cell_type": "code",
   "execution_count": 248,
   "metadata": {
    "collapsed": false
   },
   "outputs": [
    {
     "data": {
      "text/plain": [
       "20-element DataArrays.DataArray{String,1}:\n",
       " \"3-women\"                       \n",
       " \"black-rain\"                    \n",
       " \"2001-a-space-odyssey\"          \n",
       " \"film-geek\"                     \n",
       " \"crash-1997\"                    \n",
       " \"ferris-buellers-day-off\"       \n",
       " \"coming-to-america\"             \n",
       " \"air-force-one\"                 \n",
       " \"dogville\"                      \n",
       " \"fear-and-loathing-in-las-vegas\"\n",
       " \"beer-league\"                   \n",
       " \"ace-ventura-pet-detective\"     \n",
       " \"dumb-and-dumber\"               \n",
       " \"fracknation\"                   \n",
       " \"dog-run\"                       \n",
       " \"cabaret\"                       \n",
       " \"come-out-and-play\"             \n",
       " \"broken-sky\"                    \n",
       " \"bagdad-cafe\"                   \n",
       " \"fleeing-by-night\"              "
      ]
     },
     "execution_count": 248,
     "metadata": {},
     "output_type": "execute_result"
    }
   ],
   "source": [
    "build_most_variant(review_4)"
   ]
  },
  {
   "cell_type": "code",
   "execution_count": 249,
   "metadata": {
    "collapsed": false
   },
   "outputs": [
    {
     "data": {
      "text/plain": [
       "2-element DataArrays.DataArray{String,1}:\n",
       " \"Staff [Not Credited]\"\n",
       " \"Janet Maslin\"        "
      ]
     },
     "execution_count": 249,
     "metadata": {},
     "output_type": "execute_result"
    }
   ],
   "source": [
    "excluded = exclude_critics(review_4, \"bagdad-cafe\", 2)"
   ]
  },
  {
   "cell_type": "code",
   "execution_count": 250,
   "metadata": {
    "collapsed": false
   },
   "outputs": [
    {
     "data": {
      "text/plain": [
       "20-element DataArrays.DataArray{String,1}:\n",
       " \"3-women\"                                   \n",
       " \"bagdad-cafe\"                               \n",
       " \"black-rain\"                                \n",
       " \"ferris-buellers-day-off\"                   \n",
       " \"2001-a-space-odyssey\"                      \n",
       " \"film-geek\"                                 \n",
       " \"crash-1997\"                                \n",
       " \"coming-to-america\"                         \n",
       " \"air-force-one\"                             \n",
       " \"dogville\"                                  \n",
       " \"fear-and-loathing-in-las-vegas\"            \n",
       " \"brazil\"                                    \n",
       " \"beer-league\"                               \n",
       " \"ace-ventura-pet-detective\"                 \n",
       " \"dumb-and-dumber\"                           \n",
       " \"fracknation\"                               \n",
       " \"dog-run\"                                   \n",
       " \"cabaret\"                                   \n",
       " \"austin-powers-international-man-of-mystery\"\n",
       " \"come-out-and-play\"                         "
      ]
     },
     "execution_count": 250,
     "metadata": {},
     "output_type": "execute_result"
    }
   ],
   "source": [
    "review_5 = subset_df(review_4, excluded)\n",
    "build_most_variant(review_5)"
   ]
  },
  {
   "cell_type": "code",
   "execution_count": 251,
   "metadata": {
    "collapsed": false
   },
   "outputs": [
    {
     "data": {
      "text/plain": [
       "1-element DataArrays.DataArray{String,1}:\n",
       " \"Stanley Kauffmann\""
      ]
     },
     "execution_count": 251,
     "metadata": {},
     "output_type": "execute_result"
    }
   ],
   "source": [
    "excluded = exclude_critics(review_5, \"brazil\", 2)"
   ]
  },
  {
   "cell_type": "code",
   "execution_count": 252,
   "metadata": {
    "collapsed": false
   },
   "outputs": [
    {
     "data": {
      "text/plain": [
       "20-element DataArrays.DataArray{String,1}:\n",
       " \"3-women\"                                   \n",
       " \"bagdad-cafe\"                               \n",
       " \"black-rain\"                                \n",
       " \"ferris-buellers-day-off\"                   \n",
       " \"2001-a-space-odyssey\"                      \n",
       " \"crash-1997\"                                \n",
       " \"film-geek\"                                 \n",
       " \"air-force-one\"                             \n",
       " \"coming-to-america\"                         \n",
       " \"fear-and-loathing-in-las-vegas\"            \n",
       " \"dogville\"                                  \n",
       " \"beer-league\"                               \n",
       " \"ace-ventura-pet-detective\"                 \n",
       " \"dumb-and-dumber\"                           \n",
       " \"fracknation\"                               \n",
       " \"dog-run\"                                   \n",
       " \"cabaret\"                                   \n",
       " \"austin-powers-international-man-of-mystery\"\n",
       " \"come-out-and-play\"                         \n",
       " \"broken-sky\"                                "
      ]
     },
     "execution_count": 252,
     "metadata": {},
     "output_type": "execute_result"
    }
   ],
   "source": [
    "review_6 = subset_df(review_5, excluded)\n",
    "build_most_variant(review_6)"
   ]
  },
  {
   "cell_type": "code",
   "execution_count": 253,
   "metadata": {
    "collapsed": false
   },
   "outputs": [
    {
     "data": {
      "text/plain": [
       "8-element DataArrays.DataArray{String,1}:\n",
       " \"Graham Verdon\"   \n",
       " \"G. Allen Johnson\"\n",
       " \"Leonard Klady\"   \n",
       " \"Robert Faires\"   \n",
       " \"John Petrakis\"   \n",
       " \"Owen Gleiberman\" \n",
       " \"Susan Wloszczyna\"\n",
       " \"John F. Kelly\"   "
      ]
     },
     "execution_count": 253,
     "metadata": {},
     "output_type": "execute_result"
    }
   ],
   "source": [
    "excluded = exclude_critics(review_6, \"austin-powers-international-man-of-mystery\", 0)"
   ]
  },
  {
   "cell_type": "code",
   "execution_count": 254,
   "metadata": {
    "collapsed": false
   },
   "outputs": [
    {
     "data": {
      "text/plain": [
       "20-element DataArrays.DataArray{String,1}:\n",
       " \"3-women\"                       \n",
       " \"bagdad-cafe\"                   \n",
       " \"black-rain\"                    \n",
       " \"2001-a-space-odyssey\"          \n",
       " \"ferris-buellers-day-off\"       \n",
       " \"crash-1997\"                    \n",
       " \"film-geek\"                     \n",
       " \"coming-to-america\"             \n",
       " \"air-force-one\"                 \n",
       " \"fear-and-loathing-in-las-vegas\"\n",
       " \"dumb-and-dumber\"               \n",
       " \"china-the-panda-adventure\"     \n",
       " \"die-hard-2\"                    \n",
       " \"dogville\"                      \n",
       " \"crooklyn\"                      \n",
       " \"beer-league\"                   \n",
       " \"broken-sky\"                    \n",
       " \"dead-alive\"                    \n",
       " \"addicted-to-love\"              \n",
       " \"fracknation\"                   "
      ]
     },
     "execution_count": 254,
     "metadata": {},
     "output_type": "execute_result"
    }
   ],
   "source": [
    "\n",
    "review_7 = subset_df(review_6, excluded)\n",
    "build_most_variant(review_7)"
   ]
  },
  {
   "cell_type": "code",
   "execution_count": 255,
   "metadata": {
    "collapsed": false
   },
   "outputs": [
    {
     "data": {
      "text/plain": [
       "20-element DataArrays.DataArray{String,1}:\n",
       " \"3-women\"                       \n",
       " \"bagdad-cafe\"                   \n",
       " \"black-rain\"                    \n",
       " \"2001-a-space-odyssey\"          \n",
       " \"educating-rita\"                \n",
       " \"ferris-buellers-day-off\"       \n",
       " \"crash-1997\"                    \n",
       " \"film-geek\"                     \n",
       " \"air-force-one\"                 \n",
       " \"fear-and-loathing-in-las-vegas\"\n",
       " \"dumb-and-dumber\"               \n",
       " \"china-the-panda-adventure\"     \n",
       " \"dogville\"                      \n",
       " \"crooklyn\"                      \n",
       " \"beer-league\"                   \n",
       " \"broken-sky\"                    \n",
       " \"flash-gordon\"                  \n",
       " \"dead-alive\"                    \n",
       " \"addicted-to-love\"              \n",
       " \"fracknation\"                   "
      ]
     },
     "execution_count": 255,
     "metadata": {},
     "output_type": "execute_result"
    }
   ],
   "source": [
    "excluded = exclude_critics(review_7, \"die-hard-2\", 1)\n",
    "review = subset_df(review_7, excluded)\n",
    "build_most_variant(review)"
   ]
  },
  {
   "cell_type": "code",
   "execution_count": 256,
   "metadata": {
    "collapsed": false
   },
   "outputs": [
    {
     "data": {
      "text/plain": [
       "20-element DataArrays.DataArray{String,1}:\n",
       " \"3-women\"                       \n",
       " \"bagdad-cafe\"                   \n",
       " \"black-rain\"                    \n",
       " \"educating-rita\"                \n",
       " \"ferris-buellers-day-off\"       \n",
       " \"crash-1997\"                    \n",
       " \"film-geek\"                     \n",
       " \"air-force-one\"                 \n",
       " \"dumb-and-dumber\"               \n",
       " \"china-the-panda-adventure\"     \n",
       " \"dogville\"                      \n",
       " \"crooklyn\"                      \n",
       " \"beer-league\"                   \n",
       " \"broken-sky\"                    \n",
       " \"flash-gordon\"                  \n",
       " \"dead-alive\"                    \n",
       " \"fear-and-loathing-in-las-vegas\"\n",
       " \"fracknation\"                   \n",
       " \"dog-run\"                       \n",
       " \"coming-to-america\"             "
      ]
     },
     "execution_count": 256,
     "metadata": {},
     "output_type": "execute_result"
    }
   ],
   "source": [
    "excluded = exclude_critics(review, \"2001-a-space-odyssey\", 2)\n",
    "review = subset_df(review, excluded)\n",
    "build_most_variant(review)"
   ]
  },
  {
   "cell_type": "code",
   "execution_count": 260,
   "metadata": {
    "collapsed": false
   },
   "outputs": [
    {
     "data": {
      "text/plain": [
       "20-element DataArrays.DataArray{String,1}:\n",
       " \"3-women\"                       \n",
       " \"bagdad-cafe\"                   \n",
       " \"black-rain\"                    \n",
       " \"educating-rita\"                \n",
       " \"ferris-buellers-day-off\"       \n",
       " \"crash-1997\"                    \n",
       " \"film-geek\"                     \n",
       " \"beer-league\"                   \n",
       " \"air-force-one\"                 \n",
       " \"crooklyn\"                      \n",
       " \"china-the-panda-adventure\"     \n",
       " \"dogville\"                      \n",
       " \"come-out-and-play\"             \n",
       " \"broken-sky\"                    \n",
       " \"flash-gordon\"                  \n",
       " \"dead-alive\"                    \n",
       " \"fear-and-loathing-in-las-vegas\"\n",
       " \"fracknation\"                   \n",
       " \"dog-run\"                       \n",
       " \"coming-to-america\"             "
      ]
     },
     "execution_count": 260,
     "metadata": {},
     "output_type": "execute_result"
    }
   ],
   "source": [
    "excluded = exclude_critics(review, \"dumb-and-dumber\", 0)\n",
    "review = subset_df(review, excluded)\n",
    "build_most_variant(review)"
   ]
  },
  {
   "cell_type": "code",
   "execution_count": 261,
   "metadata": {
    "collapsed": false
   },
   "outputs": [
    {
     "data": {
      "text/plain": [
       "20-element DataArrays.DataArray{String,1}:\n",
       " \"3-women\"                  \n",
       " \"backdraft\"                \n",
       " \"bagdad-cafe\"              \n",
       " \"black-rain\"               \n",
       " \"burn!\"                    \n",
       " \"crimewave\"                \n",
       " \"deconstructing-harry\"     \n",
       " \"diner\"                    \n",
       " \"dumb-and-dumber\"          \n",
       " \"educating-rita\"           \n",
       " \"ferris-buellers-day-off\"  \n",
       " \"crooklyn\"                 \n",
       " \"cabaret\"                  \n",
       " \"film-geek\"                \n",
       " \"beer-league\"              \n",
       " \"air-force-one\"            \n",
       " \"china-the-panda-adventure\"\n",
       " \"dogville\"                 \n",
       " \"come-out-and-play\"        \n",
       " \"broken-sky\"               "
      ]
     },
     "execution_count": 261,
     "metadata": {},
     "output_type": "execute_result"
    }
   ],
   "source": [
    "excluded = exclude_critics(review, \"crash-1997\", 1)\n",
    "review = subset_df(review, excluded)\n",
    "build_most_variant(review)"
   ]
  },
  {
   "cell_type": "code",
   "execution_count": 262,
   "metadata": {
    "collapsed": false
   },
   "outputs": [
    {
     "data": {
      "text/plain": [
       "20-element DataArrays.DataArray{String,1}:\n",
       " \"3-women\"                  \n",
       " \"bagdad-cafe\"              \n",
       " \"black-rain\"               \n",
       " \"burn!\"                    \n",
       " \"crimewave\"                \n",
       " \"deconstructing-harry\"     \n",
       " \"diner\"                    \n",
       " \"dumb-and-dumber\"          \n",
       " \"educating-rita\"           \n",
       " \"ferris-buellers-day-off\"  \n",
       " \"crooklyn\"                 \n",
       " \"cabaret\"                  \n",
       " \"film-geek\"                \n",
       " \"beer-league\"              \n",
       " \"air-force-one\"            \n",
       " \"china-the-panda-adventure\"\n",
       " \"dogville\"                 \n",
       " \"come-out-and-play\"        \n",
       " \"broken-sky\"               \n",
       " \"broken-arrow\"             "
      ]
     },
     "execution_count": 262,
     "metadata": {},
     "output_type": "execute_result"
    }
   ],
   "source": [
    "excluded = exclude_critics(review, \"backdraft\", 1)\n",
    "review = subset_df(review, excluded)\n",
    "build_most_variant(review)"
   ]
  },
  {
   "cell_type": "code",
   "execution_count": 263,
   "metadata": {
    "collapsed": false
   },
   "outputs": [
    {
     "data": {
      "text/plain": [
       "20-element DataArrays.DataArray{String,1}:\n",
       " \"2001-a-space-odyssey\"                                              \n",
       " \"3-women\"                                                           \n",
       " \"30-years-to-life\"                                                  \n",
       " \"all-dogs-go-to-heaven\"                                             \n",
       " \"bagdad-cafe\"                                                       \n",
       " \"black-rain\"                                                        \n",
       " \"brazil\"                                                            \n",
       " \"burn!\"                                                             \n",
       " \"crimewave\"                                                         \n",
       " \"deconstructing-harry\"                                              \n",
       " \"desperado\"                                                         \n",
       " \"diner\"                                                             \n",
       " \"dr-strangelove-or-how-i-learned-to-stop-worrying-and-love-the-bomb\"\n",
       " \"fanny-and-alexander-re-release\"                                    \n",
       " \"educating-rita\"                                                    \n",
       " \"ferris-buellers-day-off\"                                           \n",
       " \"cabaret\"                                                           \n",
       " \"film-geek\"                                                         \n",
       " \"beer-league\"                                                       \n",
       " \"dog-run\"                                                           "
      ]
     },
     "execution_count": 263,
     "metadata": {},
     "output_type": "execute_result"
    }
   ],
   "source": [
    "excluded = exclude_critics(review, \"dogville\", 2)\n",
    "review = subset_df(review, excluded)\n",
    "build_most_variant(review)"
   ]
  },
  {
   "cell_type": "code",
   "execution_count": 264,
   "metadata": {
    "collapsed": false
   },
   "outputs": [
    {
     "data": {
      "text/plain": [
       "20-element DataArrays.DataArray{String,1}:\n",
       " \"2001-a-space-odyssey\"          \n",
       " \"3-women\"                       \n",
       " \"30-years-to-life\"              \n",
       " \"all-dogs-go-to-heaven\"         \n",
       " \"bagdad-cafe\"                   \n",
       " \"black-rain\"                    \n",
       " \"brazil\"                        \n",
       " \"burn!\"                         \n",
       " \"crimewave\"                     \n",
       " \"deconstructing-harry\"          \n",
       " \"desperado\"                     \n",
       " \"diner\"                         \n",
       " \"fanny-and-alexander-re-release\"\n",
       " \"educating-rita\"                \n",
       " \"ferris-buellers-day-off\"       \n",
       " \"cabaret\"                       \n",
       " \"film-geek\"                     \n",
       " \"beer-league\"                   \n",
       " \"dog-run\"                       \n",
       " \"8mm\"                           "
      ]
     },
     "execution_count": 264,
     "metadata": {},
     "output_type": "execute_result"
    }
   ],
   "source": [
    "excluded = exclude_critics(review, \"dr-strangelove-or-how-i-learned-to-stop-worrying-and-love-the-bomb\", 2)\n",
    "review = subset_df(review, excluded)\n",
    "build_most_variant(review)"
   ]
  },
  {
   "cell_type": "code",
   "execution_count": 265,
   "metadata": {
    "collapsed": false
   },
   "outputs": [
    {
     "data": {
      "text/plain": [
       "20-element DataArrays.DataArray{String,1}:\n",
       " \"2001-a-space-odyssey\"          \n",
       " \"3-women\"                       \n",
       " \"30-years-to-life\"              \n",
       " \"all-dogs-go-to-heaven\"         \n",
       " \"bagdad-cafe\"                   \n",
       " \"black-rain\"                    \n",
       " \"brazil\"                        \n",
       " \"burn!\"                         \n",
       " \"crimewave\"                     \n",
       " \"deconstructing-harry\"          \n",
       " \"desperado\"                     \n",
       " \"diner\"                         \n",
       " \"fanny-and-alexander-re-release\"\n",
       " \"educating-rita\"                \n",
       " \"ferris-buellers-day-off\"       \n",
       " \"cabaret\"                       \n",
       " \"film-geek\"                     \n",
       " \"beer-league\"                   \n",
       " \"dog-run\"                       \n",
       " \"badlands\"                      "
      ]
     },
     "execution_count": 265,
     "metadata": {},
     "output_type": "execute_result"
    }
   ],
   "source": [
    "excluded = exclude_critics(review, \"8mm\", 0)\n",
    "review = subset_df(review, excluded)\n",
    "build_most_variant(review)"
   ]
  },
  {
   "cell_type": "code",
   "execution_count": 266,
   "metadata": {
    "collapsed": false
   },
   "outputs": [
    {
     "data": {
      "text/plain": [
       "20-element DataArrays.DataArray{String,1}:\n",
       " \"2001-a-space-odyssey\"          \n",
       " \"3-women\"                       \n",
       " \"30-years-to-life\"              \n",
       " \"all-dogs-go-to-heaven\"         \n",
       " \"bagdad-cafe\"                   \n",
       " \"black-rain\"                    \n",
       " \"brazil\"                        \n",
       " \"burn!\"                         \n",
       " \"crimewave\"                     \n",
       " \"deconstructing-harry\"          \n",
       " \"desperado\"                     \n",
       " \"diner\"                         \n",
       " \"fanny-and-alexander-re-release\"\n",
       " \"educating-rita\"                \n",
       " \"ferris-buellers-day-off\"       \n",
       " \"cabaret\"                       \n",
       " \"film-geek\"                     \n",
       " \"beer-league\"                   \n",
       " \"dog-run\"                       \n",
       " \"badlands\"                      "
      ]
     },
     "execution_count": 266,
     "metadata": {},
     "output_type": "execute_result"
    }
   ],
   "source": [
    "excluded = exclude_critics(review, \"fanny-and-alexander-re-release\", 2)\n",
    "review = subset_df(review, excluded)\n",
    "build_most_variant(review)"
   ]
  },
  {
   "cell_type": "code",
   "execution_count": 267,
   "metadata": {
    "collapsed": false
   },
   "outputs": [
    {
     "data": {
      "text/plain": [
       "20-element DataArrays.DataArray{String,1}:\n",
       " \"2001-a-space-odyssey\"          \n",
       " \"3-women\"                       \n",
       " \"30-years-to-life\"              \n",
       " \"a-clockwork-orange\"            \n",
       " \"all-the-right-moves\"           \n",
       " \"bagdad-cafe\"                   \n",
       " \"black-rain\"                    \n",
       " \"brazil\"                        \n",
       " \"burn!\"                         \n",
       " \"conan-the-barbarian\"           \n",
       " \"crimes-and-misdemeanors\"       \n",
       " \"deconstructing-harry\"          \n",
       " \"desperado\"                     \n",
       " \"die-hard-2\"                    \n",
       " \"diner\"                         \n",
       " \"easy-rider\"                    \n",
       " \"fanny-and-alexander-re-release\"\n",
       " \"flashdance\"                    \n",
       " \"educating-rita\"                \n",
       " \"ferris-buellers-day-off\"       "
      ]
     },
     "execution_count": 267,
     "metadata": {},
     "output_type": "execute_result"
    }
   ],
   "source": [
    "\n",
    "excluded = exclude_critics(review, \"badlands\", 1)\n",
    "review = subset_df(review, excluded)\n",
    "build_most_variant(review)"
   ]
  },
  {
   "cell_type": "code",
   "execution_count": 268,
   "metadata": {
    "collapsed": false
   },
   "outputs": [
    {
     "data": {
      "text/plain": [
       "20-element DataArrays.DataArray{String,1}:\n",
       " \"2001-a-space-odyssey\"          \n",
       " \"3-women\"                       \n",
       " \"30-years-to-life\"              \n",
       " \"a-clockwork-orange\"            \n",
       " \"all-the-right-moves\"           \n",
       " \"bagdad-cafe\"                   \n",
       " \"black-rain\"                    \n",
       " \"brazil\"                        \n",
       " \"burn!\"                         \n",
       " \"conan-the-barbarian\"           \n",
       " \"crimes-and-misdemeanors\"       \n",
       " \"deconstructing-harry\"          \n",
       " \"desperado\"                     \n",
       " \"die-hard-2\"                    \n",
       " \"diner\"                         \n",
       " \"easy-rider\"                    \n",
       " \"fanny-and-alexander-re-release\"\n",
       " \"flashdance\"                    \n",
       " \"educating-rita\"                \n",
       " \"ferris-buellers-day-off\"       "
      ]
     },
     "execution_count": 268,
     "metadata": {},
     "output_type": "execute_result"
    }
   ],
   "source": [
    "\n",
    "excluded = exclude_critics(review, \"flashdance\", 0)\n",
    "review = subset_df(review, excluded)\n",
    "build_most_variant(review)"
   ]
  },
  {
   "cell_type": "code",
   "execution_count": 269,
   "metadata": {
    "collapsed": false
   },
   "outputs": [
    {
     "data": {
      "text/plain": [
       "20-element DataArrays.DataArray{String,1}:\n",
       " \"2001-a-space-odyssey\"          \n",
       " \"3-women\"                       \n",
       " \"30-years-to-life\"              \n",
       " \"a-clockwork-orange\"            \n",
       " \"all-the-right-moves\"           \n",
       " \"bagdad-cafe\"                   \n",
       " \"black-rain\"                    \n",
       " \"brazil\"                        \n",
       " \"burn!\"                         \n",
       " \"conan-the-barbarian\"           \n",
       " \"crimes-and-misdemeanors\"       \n",
       " \"deconstructing-harry\"          \n",
       " \"die-hard-2\"                    \n",
       " \"diner\"                         \n",
       " \"easy-rider\"                    \n",
       " \"fanny-and-alexander-re-release\"\n",
       " \"flashdance\"                    \n",
       " \"educating-rita\"                \n",
       " \"ferris-buellers-day-off\"       \n",
       " \"cabaret\"                       "
      ]
     },
     "execution_count": 269,
     "metadata": {},
     "output_type": "execute_result"
    }
   ],
   "source": [
    "\n",
    "excluded = exclude_critics(review, \"desperado\", 1)\n",
    "review = subset_df(review, excluded)\n",
    "build_most_variant(review)"
   ]
  },
  {
   "cell_type": "code",
   "execution_count": 270,
   "metadata": {
    "collapsed": false
   },
   "outputs": [
    {
     "data": {
      "text/plain": [
       "20-element DataArrays.DataArray{String,1}:\n",
       " \"2001-a-space-odyssey\"          \n",
       " \"3-women\"                       \n",
       " \"30-years-to-life\"              \n",
       " \"a-clockwork-orange\"            \n",
       " \"all-the-right-moves\"           \n",
       " \"bagdad-cafe\"                   \n",
       " \"black-rain\"                    \n",
       " \"brazil\"                        \n",
       " \"burn!\"                         \n",
       " \"conan-the-barbarian\"           \n",
       " \"crimes-and-misdemeanors\"       \n",
       " \"deconstructing-harry\"          \n",
       " \"die-hard-2\"                    \n",
       " \"diner\"                         \n",
       " \"easy-rider\"                    \n",
       " \"fanny-and-alexander-re-release\"\n",
       " \"flashdance\"                    \n",
       " \"educating-rita\"                \n",
       " \"ferris-buellers-day-off\"       \n",
       " \"cabaret\"                       "
      ]
     },
     "execution_count": 270,
     "metadata": {},
     "output_type": "execute_result"
    }
   ],
   "source": [
    "\n",
    "excluded = exclude_critics(review, \"conan-the-barbarian\", 0)\n",
    "review = subset_df(review, excluded)\n",
    "build_most_variant(review)"
   ]
  },
  {
   "cell_type": "code",
   "execution_count": 271,
   "metadata": {
    "collapsed": false
   },
   "outputs": [
    {
     "data": {
      "text/plain": [
       "1637-element DataArrays.DataArray{String,1}:\n",
       " \"Inkoo Kang\"          \n",
       " \"Mark Olsen\"          \n",
       " \"Chuck Bowen\"         \n",
       " \"Jeannette Catsoulis\" \n",
       " \"Peter Sobczynski\"    \n",
       " \"Lisa Schwarzbaum\"    \n",
       " \"Steven Rea\"          \n",
       " \"Tasha Robinson\"      \n",
       " \"Kyle Smith\"          \n",
       " \"Janice Page\"         \n",
       " \"Peter Hartlaub\"      \n",
       " \"Calvin Wilson\"       \n",
       " \"Ella Taylor\"         \n",
       " ⋮                     \n",
       " \"Gregory Valens\"      \n",
       " \"Joel Schumacher\"     \n",
       " \"Eliza Truitt\"        \n",
       " \"Gabriella Gershenson\"\n",
       " \"Robert Sietsema\"     \n",
       " \"Sam Worley\"          \n",
       " \"Jess Righthand\"      \n",
       " \"Eleonore Snow\"       \n",
       " \"Don Irvine\"          \n",
       " \"Gina Fattore\"        \n",
       " \"Joseph McBride\"      \n",
       " \"Ross Bennett\"        "
      ]
     },
     "execution_count": 271,
     "metadata": {},
     "output_type": "execute_result"
    }
   ],
   "source": [
    "unique(review[:critic])"
   ]
  },
  {
   "cell_type": "code",
   "execution_count": null,
   "metadata": {
    "collapsed": true
   },
   "outputs": [],
   "source": []
  }
 ],
 "metadata": {
  "kernelspec": {
   "display_name": "Julia 0.5.2-pre",
   "language": "julia",
   "name": "julia-0.5"
  },
  "language_info": {
   "file_extension": ".jl",
   "mimetype": "application/julia",
   "name": "julia",
   "version": "0.5.2"
  }
 },
 "nbformat": 4,
 "nbformat_minor": 2
}
