{
 "cells": [
  {
   "cell_type": "code",
   "execution_count": 2,
   "metadata": {
    "collapsed": true
   },
   "outputs": [],
   "source": [
    "from bs4 import BeautifulSoup\n",
    "import urllib.request\n",
    "import time\n",
    "import sys\n",
    "import random\n",
    "from string import ascii_lowercase\n",
    "import pickle"
   ]
  },
  {
   "cell_type": "code",
   "execution_count": 3,
   "metadata": {
    "collapsed": true
   },
   "outputs": [],
   "source": [
    "LETTERS = '#' + ascii_lowercase\n",
    "BASE_URL = 'http://www.metacritic.com/browse/movies/title/dvd'"
   ]
  },
  {
   "cell_type": "code",
   "execution_count": 4,
   "metadata": {
    "collapsed": true
   },
   "outputs": [],
   "source": [
    "def make_soup_from_url(url, attempt=0):\n",
    "    attempt = attempt + 1\n",
    "    time.sleep(int(random.random()*20))\n",
    "    if attempt > 10:\n",
    "        return None\n",
    "    try:\n",
    "        req = urllib.request.Request(url, headers={'User-Agent': 'chrome'})\n",
    "        html = urllib.request.urlopen(req).read()\n",
    "        return BeautifulSoup(html, \"lxml\")\n",
    "    except:\n",
    "        make_soup_from_url(url, attempt)"
   ]
  },
  {
   "cell_type": "code",
   "execution_count": 5,
   "metadata": {
    "collapsed": false
   },
   "outputs": [],
   "source": [
    "def make_soup(letter, page, attempt = 0):\n",
    "    if letter == '#':\n",
    "        url = BASE_URL + \"?page=\" + str(page)\n",
    "    else:\n",
    "        url = BASE_URL + \"/\" + letter + \"?page=\" + str(page)\n"
   ]
  },
  {
   "cell_type": "code",
   "execution_count": 131,
   "metadata": {
    "collapsed": true
   },
   "outputs": [],
   "source": [
    "movie_list = []"
   ]
  },
  {
   "cell_type": "code",
   "execution_count": 132,
   "metadata": {
    "collapsed": false
   },
   "outputs": [
    {
     "name": "stdout",
     "output_type": "stream",
     "text": [
      "processing letter: # ...\n",
      "processing letter: a ...\n",
      "processing letter: b ...\n",
      "processing letter: c ...\n",
      "processing letter: d ...\n",
      "processing letter: e ...\n",
      "processing letter: f ...\n",
      "processing letter: g ...\n",
      "processing letter: h ...\n",
      "processing letter: i ...\n",
      "processing letter: j ...\n",
      "processing letter: k ...\n",
      "processing letter: l ...\n",
      "processing letter: m ...\n",
      "processing letter: n ...\n",
      "processing letter: o ...\n",
      "processing letter: p ...\n",
      "processing letter: q ...\n",
      "processing letter: r ...\n",
      "processing letter: s ...\n",
      "processing letter: t ...\n",
      "processing letter: u ...\n",
      "processing letter: v ...\n",
      "processing letter: w ...\n",
      "processing letter: x ...\n",
      "processing letter: y ...\n",
      "processing letter: z ...\n"
     ]
    }
   ],
   "source": [
    "for letter in LETTERS:\n",
    "    print('processing letter: ' + letter + ' ...')\n",
    "    page = 0\n",
    "    while True:\n",
    "        soup = make_soup(letter, page)\n",
    "        \n",
    "        if soup:\n",
    "            results = soup.find_all('tr', {'class': 'summary_row'})\n",
    "            links = [result.find('td', {'class': 'title_wrapper'}).find('a')['href'] for result in results]\n",
    "        else:\n",
    "            links = []\n",
    "        \n",
    "        movie_list = movie_list + links\n",
    "        \n",
    "        if links:\n",
    "            page = page + 1\n",
    "        else:\n",
    "            break"
   ]
  },
  {
   "cell_type": "code",
   "execution_count": 144,
   "metadata": {
    "collapsed": false
   },
   "outputs": [],
   "source": [
    "with open('../data/movielist_mc', 'wb') as f:\n",
    "    pickle.dump(movie_list, f)"
   ]
  },
  {
   "cell_type": "markdown",
   "metadata": {},
   "source": [
    "## Scraping individual pages"
   ]
  },
  {
   "cell_type": "code",
   "execution_count": 74,
   "metadata": {
    "collapsed": true
   },
   "outputs": [],
   "source": [
    "INDIV_URL = 'http://www.metacritic.com'\n",
    "TR_FIELDS = ['runtime', 'movie_rating', 'company', 'languages', 'countries', 'genres']"
   ]
  },
  {
   "cell_type": "code",
   "execution_count": 6,
   "metadata": {
    "collapsed": false
   },
   "outputs": [],
   "source": [
    "with open('../data/movielist_mc', 'rb') as f:\n",
    "    movie_list = pickle.load(f)"
   ]
  },
  {
   "cell_type": "code",
   "execution_count": 122,
   "metadata": {
    "collapsed": false
   },
   "outputs": [],
   "source": [
    "def clean_span_array(array):\n",
    "    if type(array) == list:\n",
    "        if len(array)==1:\n",
    "            return array[0].strip()\n",
    "        else:\n",
    "            return [a.strip() for a in array]\n",
    "    else:\n",
    "        return array"
   ]
  },
  {
   "cell_type": "code",
   "execution_count": 127,
   "metadata": {
    "collapsed": false
   },
   "outputs": [],
   "source": [
    "def get_tr(soup, search_string):\n",
    "    try:\n",
    "        tr = soup.find('tr', {'class': search_string}).find('td', {'class': 'data'}).text\n",
    "        return clean_span_array(tr.split(','))\n",
    "    except:\n",
    "        return"
   ]
  },
  {
   "cell_type": "code",
   "execution_count": 135,
   "metadata": {
    "collapsed": true
   },
   "outputs": [],
   "source": [
    "soup = make_soup_from_url(url)"
   ]
  },
  {
   "cell_type": "code",
   "execution_count": 180,
   "metadata": {
    "collapsed": true
   },
   "outputs": [],
   "source": [
    "def basic_fields(soup):\n",
    "    title = soup.find('h1').text\n",
    "    metascore = soup.select('span.metascore_w.header_size')[0].text\n",
    "    user_score = soup.select('span.metascore_w.user')[0].text\n",
    "    release_date = soup.find('div', {'class': 'product_info'}).find('span', {'class': 'release_date'}).text.strip().split('\\n')[1]\n",
    "    \n",
    "    tr_array = []\n",
    "    \n",
    "    for field in TR_FIELDS:\n",
    "        tr_array.append(get_tr(soup, field))\n",
    "        \n",
    "    return [title, metascore, user_score, release_date] + tr_array\n",
    "    "
   ]
  },
  {
   "cell_type": "code",
   "execution_count": 10,
   "metadata": {
    "collapsed": false
   },
   "outputs": [
    {
     "data": {
      "text/plain": [
       "'/movie/horror'"
      ]
     },
     "execution_count": 10,
     "metadata": {},
     "output_type": "execute_result"
    }
   ],
   "source": [
    "movie_list[0]"
   ]
  },
  {
   "cell_type": "code",
   "execution_count": 134,
   "metadata": {
    "collapsed": false
   },
   "outputs": [],
   "source": [
    "url = INDIV_URL + movie_list[0] + '/details'"
   ]
  },
  {
   "cell_type": "code",
   "execution_count": 132,
   "metadata": {
    "collapsed": false,
    "scrolled": false
   },
   "outputs": [],
   "source": [
    "a = scrape_page(url)"
   ]
  },
  {
   "cell_type": "code",
   "execution_count": 133,
   "metadata": {
    "collapsed": false
   },
   "outputs": [
    {
     "data": {
      "text/plain": [
       "['$9.99',\n",
       " '68',\n",
       " '6.8',\n",
       " 'June 19, 2009',\n",
       " '78 min',\n",
       " 'Rated R for language and brief sexuality and nudity.',\n",
       " 'Australian Film Finance Corporation (AFFC)',\n",
       " 'English',\n",
       " ['Israel', 'Australia'],\n",
       " ['Drama', 'Animation']]"
      ]
     },
     "execution_count": 133,
     "metadata": {},
     "output_type": "execute_result"
    }
   ],
   "source": [
    "a"
   ]
  },
  {
   "cell_type": "code",
   "execution_count": 167,
   "metadata": {
    "collapsed": true
   },
   "outputs": [],
   "source": [
    "def get_people_from_category(soup, category):\n",
    "    people = []\n",
    "    for role in category.parent.parent.parent.find_all('td', {'class': 'role'}):\n",
    "        name = role.previous_sibling.previous_sibling.text.strip()\n",
    "        role = role.text.strip()\n",
    "        if ('Producer' in role) and (role != 'Producer'):\n",
    "            pass\n",
    "        else:\n",
    "            people.append(name)\n",
    "            \n",
    "    return people"
   ]
  },
  {
   "cell_type": "code",
   "execution_count": 173,
   "metadata": {
    "collapsed": false
   },
   "outputs": [],
   "source": [
    "def get_people(soup):\n",
    "    # flag not to get cast if there was a principal cast\n",
    "    principal_cast_flag = False\n",
    "    people = {}\n",
    "    \n",
    "    for category in soup.find_all('th', {'class': 'person'}):\n",
    "        category_name = category.text.strip()\n",
    "        \n",
    "        if category_name == 'Principal Cast':\n",
    "            principal_cast_flag = True\n",
    "            people['Cast'] = get_people_from_category(soup, category)\n",
    "        elif category_name == 'Cast'  and principal_cast_flag:\n",
    "            pass\n",
    "        else:\n",
    "            people[category_name] = get_people_from_category(soup, category)\n",
    "    \n",
    "    return people\n",
    "            \n",
    "    \n"
   ]
  },
  {
   "cell_type": "code",
   "execution_count": 174,
   "metadata": {
    "collapsed": false
   },
   "outputs": [
    {
     "data": {
      "text/plain": [
       "{'Cast': ['Balthazar Getty',\n",
       "  'Blue Lindeberg',\n",
       "  'Bridget McGarry',\n",
       "  'Chloë Sevigny',\n",
       "  'Emma Adler',\n",
       "  'Haley Murphy',\n",
       "  'Mina Sundwall',\n",
       "  'Sadie Seelert',\n",
       "  'Timothy Hutton'],\n",
       " 'Director': ['Tara Subkoff'],\n",
       " 'Producer': ['Brendan Walsh', 'Jason Ludman', 'Oren Segal', 'Tara Subkoff'],\n",
       " 'Writer': ['Tara Subkoff']}"
      ]
     },
     "execution_count": 174,
     "metadata": {},
     "output_type": "execute_result"
    }
   ],
   "source": [
    "get_people(soup)"
   ]
  },
  {
   "cell_type": "code",
   "execution_count": 189,
   "metadata": {
    "collapsed": false
   },
   "outputs": [
    {
     "name": "stdout",
     "output_type": "stream",
     "text": [
      "http://www.metacritic.com/movie/horror/details\n",
      "http://www.metacritic.com/movie/999/details\n",
      "http://www.metacritic.com/movie/pent/details\n",
      "http://www.metacritic.com/movie/71/details\n",
      "http://www.metacritic.com/movie/r-xmas/details\n"
     ]
    }
   ],
   "source": [
    "mega_array = []\n",
    "\n",
    "for movie in movie_list[0:5]:\n",
    "    url = INDIV_URL + movie + '/details'\n",
    "    print(url)\n",
    "    soup = make_soup_from_url(url)\n",
    "    basic_info = basic_fields(soup)\n",
    "    ppl = get_people(soup)\n",
    "    array = [movie] + basic_info + [ppl['Director']] + [ppl['Producer']] + [ppl['Cast']] + [ppl['Writer']]\n",
    "    mega_array.append(array)\n",
    "    \n",
    "    "
   ]
  },
  {
   "cell_type": "code",
   "execution_count": 176,
   "metadata": {
    "collapsed": true
   },
   "outputs": [],
   "source": [
    "import pandas as pd"
   ]
  },
  {
   "cell_type": "code",
   "execution_count": 190,
   "metadata": {
    "collapsed": true
   },
   "outputs": [],
   "source": [
    "df = pd.DataFrame(mega_array, columns = ['id', 'name', 'metascore', 'usr_score',\n",
    "                             'date', 'runtime', 'rating', 'company', 'languages',\n",
    "                             'countries', 'genres', 'director', 'producer', 'cast', 'writer'])"
   ]
  },
  {
   "cell_type": "code",
   "execution_count": 191,
   "metadata": {
    "collapsed": false
   },
   "outputs": [
    {
     "data": {
      "text/html": [
       "<div>\n",
       "<table border=\"1\" class=\"dataframe\">\n",
       "  <thead>\n",
       "    <tr style=\"text-align: right;\">\n",
       "      <th></th>\n",
       "      <th>id</th>\n",
       "      <th>name</th>\n",
       "      <th>metascore</th>\n",
       "      <th>usr_score</th>\n",
       "      <th>date</th>\n",
       "      <th>runtime</th>\n",
       "      <th>rating</th>\n",
       "      <th>company</th>\n",
       "      <th>languages</th>\n",
       "      <th>countries</th>\n",
       "      <th>genres</th>\n",
       "      <th>director</th>\n",
       "      <th>producer</th>\n",
       "      <th>cast</th>\n",
       "      <th>writer</th>\n",
       "    </tr>\n",
       "  </thead>\n",
       "  <tbody>\n",
       "    <tr>\n",
       "      <th>0</th>\n",
       "      <td>/movie/horror</td>\n",
       "      <td>#Horror</td>\n",
       "      <td>42</td>\n",
       "      <td>3.1</td>\n",
       "      <td>November 20, 2015</td>\n",
       "      <td>101 min</td>\n",
       "      <td>Not Rated</td>\n",
       "      <td>Lowland Pictures</td>\n",
       "      <td>English</td>\n",
       "      <td>USA</td>\n",
       "      <td>[Drama, Mystery, Thriller, Horror]</td>\n",
       "      <td>[Tara Subkoff]</td>\n",
       "      <td>[Brendan Walsh, Jason Ludman, Oren Segal, Tara...</td>\n",
       "      <td>[Balthazar Getty, Blue Lindeberg, Bridget McGa...</td>\n",
       "      <td>[Tara Subkoff]</td>\n",
       "    </tr>\n",
       "    <tr>\n",
       "      <th>1</th>\n",
       "      <td>/movie/999</td>\n",
       "      <td>$9.99</td>\n",
       "      <td>68</td>\n",
       "      <td>6.8</td>\n",
       "      <td>June 19, 2009</td>\n",
       "      <td>78 min</td>\n",
       "      <td>Rated R for language and brief sexuality and n...</td>\n",
       "      <td>Australian Film Finance Corporation (AFFC)</td>\n",
       "      <td>English</td>\n",
       "      <td>[Israel, Australia]</td>\n",
       "      <td>[Drama, Animation]</td>\n",
       "      <td>[Tatia Rosenthal]</td>\n",
       "      <td>[Amir Harel, Emile Sherman]</td>\n",
       "      <td>[Anthony LaPaglia, Barry Otto, Ben Mendelsohn,...</td>\n",
       "      <td>[Etgar Keret, Tatia Rosenthal]</td>\n",
       "    </tr>\n",
       "    <tr>\n",
       "      <th>2</th>\n",
       "      <td>/movie/pent</td>\n",
       "      <td>$pent</td>\n",
       "      <td>34</td>\n",
       "      <td>tbd</td>\n",
       "      <td>July 21, 2000</td>\n",
       "      <td>91 min</td>\n",
       "      <td>None</td>\n",
       "      <td>Spent LLC</td>\n",
       "      <td>English</td>\n",
       "      <td>USA</td>\n",
       "      <td>Drama</td>\n",
       "      <td>[Gil Cates Jr.]</td>\n",
       "      <td>[Gil Cates Jr., Jordan Summers, Rana Joy Glick...</td>\n",
       "      <td>[Barbara Barrie, Bassia Loebel, Charlie Spradl...</td>\n",
       "      <td>[Gil Cates Jr.]</td>\n",
       "    </tr>\n",
       "    <tr>\n",
       "      <th>3</th>\n",
       "      <td>/movie/71</td>\n",
       "      <td>'71</td>\n",
       "      <td>83</td>\n",
       "      <td>7.5</td>\n",
       "      <td>February 27, 2015</td>\n",
       "      <td>99 min</td>\n",
       "      <td>[Rated R for strong violence, disturbing image...</td>\n",
       "      <td>Warp Films</td>\n",
       "      <td>English</td>\n",
       "      <td>UK</td>\n",
       "      <td>[Action, Drama, Thriller, War]</td>\n",
       "      <td>[Yann Demange]</td>\n",
       "      <td>[Angus Lamont, Robin Gutch]</td>\n",
       "      <td>[Charlie Murphy, Jack O'Connell, Paul Anderson...</td>\n",
       "      <td>[Gregory Burke]</td>\n",
       "    </tr>\n",
       "    <tr>\n",
       "      <th>4</th>\n",
       "      <td>/movie/r-xmas</td>\n",
       "      <td>'R Xmas</td>\n",
       "      <td>55</td>\n",
       "      <td>6.9</td>\n",
       "      <td>November 8, 2002</td>\n",
       "      <td>85 min</td>\n",
       "      <td>[Rated R for strong language, drug content and...</td>\n",
       "      <td>Valence Films Inc.</td>\n",
       "      <td>[English, Spanish]</td>\n",
       "      <td>[USA, France]</td>\n",
       "      <td>[Drama, Crime]</td>\n",
       "      <td>[Abel Ferrara]</td>\n",
       "      <td>[Pierre Kalfon]</td>\n",
       "      <td>[Andrew Fiscella, Anne Ackerman, Denia Brache,...</td>\n",
       "      <td>[Abel Ferrara, Cassandra De Jesus, Scott Pardo]</td>\n",
       "    </tr>\n",
       "  </tbody>\n",
       "</table>\n",
       "</div>"
      ],
      "text/plain": [
       "              id     name metascore usr_score               date  runtime  \\\n",
       "0  /movie/horror  #Horror        42       3.1  November 20, 2015  101 min   \n",
       "1     /movie/999    $9.99        68       6.8      June 19, 2009   78 min   \n",
       "2    /movie/pent    $pent        34       tbd      July 21, 2000   91 min   \n",
       "3      /movie/71      '71        83       7.5  February 27, 2015   99 min   \n",
       "4  /movie/r-xmas  'R Xmas        55       6.9   November 8, 2002   85 min   \n",
       "\n",
       "                                              rating  \\\n",
       "0                                          Not Rated   \n",
       "1  Rated R for language and brief sexuality and n...   \n",
       "2                                               None   \n",
       "3  [Rated R for strong violence, disturbing image...   \n",
       "4  [Rated R for strong language, drug content and...   \n",
       "\n",
       "                                      company           languages  \\\n",
       "0                            Lowland Pictures             English   \n",
       "1  Australian Film Finance Corporation (AFFC)             English   \n",
       "2                                   Spent LLC             English   \n",
       "3                                  Warp Films             English   \n",
       "4                          Valence Films Inc.  [English, Spanish]   \n",
       "\n",
       "             countries                              genres           director  \\\n",
       "0                  USA  [Drama, Mystery, Thriller, Horror]     [Tara Subkoff]   \n",
       "1  [Israel, Australia]                  [Drama, Animation]  [Tatia Rosenthal]   \n",
       "2                  USA                               Drama    [Gil Cates Jr.]   \n",
       "3                   UK      [Action, Drama, Thriller, War]     [Yann Demange]   \n",
       "4        [USA, France]                      [Drama, Crime]     [Abel Ferrara]   \n",
       "\n",
       "                                            producer  \\\n",
       "0  [Brendan Walsh, Jason Ludman, Oren Segal, Tara...   \n",
       "1                        [Amir Harel, Emile Sherman]   \n",
       "2  [Gil Cates Jr., Jordan Summers, Rana Joy Glick...   \n",
       "3                        [Angus Lamont, Robin Gutch]   \n",
       "4                                    [Pierre Kalfon]   \n",
       "\n",
       "                                                cast  \\\n",
       "0  [Balthazar Getty, Blue Lindeberg, Bridget McGa...   \n",
       "1  [Anthony LaPaglia, Barry Otto, Ben Mendelsohn,...   \n",
       "2  [Barbara Barrie, Bassia Loebel, Charlie Spradl...   \n",
       "3  [Charlie Murphy, Jack O'Connell, Paul Anderson...   \n",
       "4  [Andrew Fiscella, Anne Ackerman, Denia Brache,...   \n",
       "\n",
       "                                            writer  \n",
       "0                                   [Tara Subkoff]  \n",
       "1                   [Etgar Keret, Tatia Rosenthal]  \n",
       "2                                  [Gil Cates Jr.]  \n",
       "3                                  [Gregory Burke]  \n",
       "4  [Abel Ferrara, Cassandra De Jesus, Scott Pardo]  "
      ]
     },
     "execution_count": 191,
     "metadata": {},
     "output_type": "execute_result"
    }
   ],
   "source": [
    "df"
   ]
  },
  {
   "cell_type": "markdown",
   "metadata": {},
   "source": [
    "## scraping critics"
   ]
  },
  {
   "cell_type": "code",
   "execution_count": 194,
   "metadata": {
    "collapsed": false
   },
   "outputs": [],
   "source": [
    "url = INDIV_URL + movie_list[0] + '/critic-reviews'"
   ]
  },
  {
   "cell_type": "code",
   "execution_count": 195,
   "metadata": {
    "collapsed": true
   },
   "outputs": [],
   "source": [
    "soup = make_soup_from_url(url)"
   ]
  },
  {
   "cell_type": "code",
   "execution_count": 201,
   "metadata": {
    "collapsed": false
   },
   "outputs": [
    {
     "data": {
      "text/plain": [
       "<div class=\"review pad_top1 pad_btm1\">\n",
       "<div class=\"left fl\">\n",
       "<div class=\"metascore_w large movie positive indiv\">70</div>\n",
       "</div>\n",
       "<div class=\"right fl\">\n",
       "<div class=\"title pad_btm_half\"><span class=\"source\"><a href=\"/publication/village-voice?filter=movies\">Village Voice</a></span><span class=\"author\"><a href=\"/critic/rob-staeger?filter=movies\">Rob Staeger</a></span><span class=\"date\">Nov 17, 2015</span></div>\n",
       "<div class=\"summary\">\n",
       "<a class=\"no_hover\" href=\"http://www.villagevoice.com/film/you-won-t-be-able-to-look-away-from-hashtags-and-selfies-horror-flick-horror-7912780\" rel=\"noopener\" target=\"_blank\">\n",
       "                                Not every gamble works: The girls' intrusive Bejeweled-like social-media game annoys at every turn, and the plot itself is murky. But #Horror mesmerizes nonetheless, filled with tension, cruelty, and can't-look-away style.\n",
       "                                    </a>\n",
       "<a class=\"read_full\" href=\"http://www.villagevoice.com/film/you-won-t-be-able-to-look-away-from-hashtags-and-selfies-horror-flick-horror-7912780\" rel=\"noopener\" target=\"_blank\">Read full review</a>\n",
       "</div>\n",
       "</div>\n",
       "<div class=\"clr\"></div>\n",
       "</div>"
      ]
     },
     "execution_count": 201,
     "metadata": {},
     "output_type": "execute_result"
    }
   ],
   "source": [
    "soup.find(text='Village Voice').parent.parent.parent.parent.parent"
   ]
  },
  {
   "cell_type": "code",
   "execution_count": 203,
   "metadata": {
    "collapsed": false
   },
   "outputs": [],
   "source": [
    "review = soup.find('div', {'class': 'review'})"
   ]
  },
  {
   "cell_type": "code",
   "execution_count": 216,
   "metadata": {
    "collapsed": false
   },
   "outputs": [
    {
     "data": {
      "text/plain": [
       "'/movie/horror'"
      ]
     },
     "execution_count": 216,
     "metadata": {},
     "output_type": "execute_result"
    }
   ],
   "source": [
    "movie_list[0]"
   ]
  },
  {
   "cell_type": "code",
   "execution_count": 217,
   "metadata": {
    "collapsed": false
   },
   "outputs": [],
   "source": [
    "\n",
    "url = INDIV_URL + '/movie/avatar/critic-reviews'"
   ]
  },
  {
   "cell_type": "code",
   "execution_count": 221,
   "metadata": {
    "collapsed": false
   },
   "outputs": [],
   "source": [
    "soup = make_soup_from_url(url)"
   ]
  },
  {
   "cell_type": "code",
   "execution_count": 222,
   "metadata": {
    "collapsed": false
   },
   "outputs": [
    {
     "name": "stdout",
     "output_type": "stream",
     "text": [
      "['100', 'The Hollywood Reporter', 'Kirk Honeycutt']\n",
      "['100', 'Empire', 'Chris Hewitt (1)']\n",
      "['100', 'Chicago Sun-Times', 'Roger Ebert']\n",
      "['100', 'Premiere', 'Nick Starkey']\n",
      "['100', 'Chicago Reader', 'J.R. Jones']\n",
      "['100', 'Los Angeles Times', 'Kenneth Turan']\n",
      "['100', 'The New York Times', 'Manohla Dargis']\n",
      "['100', 'ReelViews', 'James Berardinelli']\n",
      "['100', 'L.A. Weekly', 'Scott Foundas']\n",
      "['100', 'New York Magazine (Vulture)', 'David Edelstein']\n",
      "['90', 'Variety', 'Todd McCarthy']\n",
      "['90', 'Time', 'Richard Corliss']\n",
      "['90', 'The New Yorker', 'David Denby']\n",
      "['90', 'Wall Street Journal', 'Joe Morgenstern']\n",
      "['90', 'Slate', 'Dana Stevens']\n",
      "['89', 'Austin Chronicle', 'Marc Savlov']\n",
      "['88', 'Rolling Stone', 'Peter Travers']\n",
      "['88', 'New York Post', 'Lou Lumenick']\n",
      "['88', 'Boston Globe', 'Ty Burr']\n",
      "['88', 'Philadelphia Inquirer', 'Steven Rea']\n",
      "['83', 'Christian Science Monitor', 'Peter Rainer']\n",
      "['83', 'Portland Oregonian', 'Shawn Levy']\n",
      "['75', 'Chicago Tribune', 'Michael Phillips']\n",
      "['75', 'Entertainment Weekly', 'Owen Gleiberman']\n",
      "['75', 'USA Today', 'Claudia Puig']\n",
      "['75', 'St. Louis Post-Dispatch', 'Joe Williams']\n",
      "['75', 'Washington Post', 'Ann Hornaday']\n",
      "['75', 'The Globe and Mail (Toronto)', 'Rick Groen']\n",
      "['75', 'San Francisco Chronicle', 'Amy Biancolli']\n",
      "['70', 'Village Voice', 'J. Hoberman']\n",
      "['63', 'Miami Herald', 'Rene Rodriguez']\n",
      "['60', 'Time Out New York', 'Keith Uhlich']\n",
      "['60', 'New York Daily News', 'Joe Neumaier']\n",
      "['50', 'The A.V. Club', 'Scott Tobias']\n",
      "['50', 'Salon.com', 'Stephanie Zacharek']\n"
     ]
    }
   ],
   "source": [
    "for review in soup.find_all('div', {'class': 'review'}):\n",
    "    try:\n",
    "        score = review.find('div', {'class': 'movie'}).text\n",
    "        publication = review.find('span', {'class': 'source'}).text\n",
    "        author = review.find('span', {'class': 'author'}).text\n",
    "        print([score, publication, author])\n",
    "    except:\n",
    "        pass"
   ]
  },
  {
   "cell_type": "code",
   "execution_count": null,
   "metadata": {
    "collapsed": true
   },
   "outputs": [],
   "source": []
  },
  {
   "cell_type": "code",
   "execution_count": 223,
   "metadata": {
    "collapsed": true
   },
   "outputs": [],
   "source": [
    "url = INDIV_URL + '/movie/avatar/user-reviews'"
   ]
  },
  {
   "cell_type": "code",
   "execution_count": 224,
   "metadata": {
    "collapsed": true
   },
   "outputs": [],
   "source": [
    "soup = make_soup_from_url(url)"
   ]
  },
  {
   "cell_type": "code",
   "execution_count": 235,
   "metadata": {
    "collapsed": false
   },
   "outputs": [
    {
     "data": {
      "text/plain": [
       "'2,152'"
      ]
     },
     "execution_count": 235,
     "metadata": {},
     "output_type": "execute_result"
    }
   ],
   "source": [
    "soup.find(text='Positive:').parent.parent.find('div',{'class': 'count'}).text"
   ]
  },
  {
   "cell_type": "code",
   "execution_count": 236,
   "metadata": {
    "collapsed": false
   },
   "outputs": [
    {
     "data": {
      "text/plain": [
       "'413'"
      ]
     },
     "execution_count": 236,
     "metadata": {},
     "output_type": "execute_result"
    }
   ],
   "source": [
    "soup.find(text='Negative:').parent.parent.find('div',{'class': 'count'}).text"
   ]
  },
  {
   "cell_type": "code",
   "execution_count": 237,
   "metadata": {
    "collapsed": false
   },
   "outputs": [
    {
     "data": {
      "text/plain": [
       "'441'"
      ]
     },
     "execution_count": 237,
     "metadata": {},
     "output_type": "execute_result"
    }
   ],
   "source": [
    "soup.find(text='Mixed:').parent.parent.find('div',{'class': 'count'}).text"
   ]
  },
  {
   "cell_type": "code",
   "execution_count": null,
   "metadata": {
    "collapsed": true
   },
   "outputs": [],
   "source": []
  }
 ],
 "metadata": {
  "kernelspec": {
   "display_name": "Python 3",
   "language": "python",
   "name": "python3"
  },
  "language_info": {
   "codemirror_mode": {
    "name": "ipython",
    "version": 3
   },
   "file_extension": ".py",
   "mimetype": "text/x-python",
   "name": "python",
   "nbconvert_exporter": "python",
   "pygments_lexer": "ipython3",
   "version": "3.6.0"
  }
 },
 "nbformat": 4,
 "nbformat_minor": 2
}
